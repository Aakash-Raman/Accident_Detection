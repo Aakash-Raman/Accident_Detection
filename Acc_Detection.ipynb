{
  "nbformat": 4,
  "nbformat_minor": 0,
  "metadata": {
    "colab": {
      "name": "Untitled26.ipynb",
      "provenance": []
    },
    "kernelspec": {
      "name": "python3",
      "display_name": "Python 3"
    }
  },
  "cells": [
    {
      "cell_type": "code",
      "metadata": {
        "id": "6L8acD1BelaG",
        "colab_type": "code",
        "colab": {}
      },
      "source": [
        "import pandas as pd"
      ],
      "execution_count": 177,
      "outputs": []
    },
    {
      "cell_type": "code",
      "metadata": {
        "id": "wXFxik6Ie5M8",
        "colab_type": "code",
        "colab": {}
      },
      "source": [
        "train = pd.read_csv(\"/content/Train_data.csv\")"
      ],
      "execution_count": 178,
      "outputs": []
    },
    {
      "cell_type": "code",
      "metadata": {
        "id": "4UlsCFkoe8pG",
        "colab_type": "code",
        "colab": {
          "base_uri": "https://localhost:8080/",
          "height": 232
        },
        "outputId": "5c11b00e-c875-4b8b-b775-25715a8faca4"
      },
      "source": [
        "train.head()"
      ],
      "execution_count": 179,
      "outputs": [
        {
          "output_type": "execute_result",
          "data": {
            "text/html": [
              "<div>\n",
              "<style scoped>\n",
              "    .dataframe tbody tr th:only-of-type {\n",
              "        vertical-align: middle;\n",
              "    }\n",
              "\n",
              "    .dataframe tbody tr th {\n",
              "        vertical-align: top;\n",
              "    }\n",
              "\n",
              "    .dataframe thead th {\n",
              "        text-align: right;\n",
              "    }\n",
              "</style>\n",
              "<table border=\"1\" class=\"dataframe\">\n",
              "  <thead>\n",
              "    <tr style=\"text-align: right;\">\n",
              "      <th></th>\n",
              "      <th>Unnamed: 0</th>\n",
              "      <th>code</th>\n",
              "      <th>clientType</th>\n",
              "      <th>registrationMode</th>\n",
              "      <th>planName</th>\n",
              "      <th>accident</th>\n",
              "      <th>duration</th>\n",
              "      <th>country</th>\n",
              "      <th>netSales</th>\n",
              "      <th>netProfit</th>\n",
              "      <th>gender</th>\n",
              "      <th>age</th>\n",
              "    </tr>\n",
              "  </thead>\n",
              "  <tbody>\n",
              "    <tr>\n",
              "      <th>0</th>\n",
              "      <td>1</td>\n",
              "      <td>CBH</td>\n",
              "      <td>Basic</td>\n",
              "      <td>Offline</td>\n",
              "      <td>M</td>\n",
              "      <td>0</td>\n",
              "      <td>186</td>\n",
              "      <td>MALAYSIA</td>\n",
              "      <td>-29.0</td>\n",
              "      <td>9.57</td>\n",
              "      <td>F</td>\n",
              "      <td>81</td>\n",
              "    </tr>\n",
              "    <tr>\n",
              "      <th>1</th>\n",
              "      <td>2</td>\n",
              "      <td>CBH</td>\n",
              "      <td>Basic</td>\n",
              "      <td>Offline</td>\n",
              "      <td>M</td>\n",
              "      <td>0</td>\n",
              "      <td>186</td>\n",
              "      <td>MALAYSIA</td>\n",
              "      <td>-29.0</td>\n",
              "      <td>9.57</td>\n",
              "      <td>F</td>\n",
              "      <td>71</td>\n",
              "    </tr>\n",
              "    <tr>\n",
              "      <th>2</th>\n",
              "      <td>3</td>\n",
              "      <td>CWT</td>\n",
              "      <td>Basic</td>\n",
              "      <td>Online</td>\n",
              "      <td>Q</td>\n",
              "      <td>0</td>\n",
              "      <td>65</td>\n",
              "      <td>AUSTRALIA</td>\n",
              "      <td>-49.5</td>\n",
              "      <td>29.70</td>\n",
              "      <td>NaN</td>\n",
              "      <td>32</td>\n",
              "    </tr>\n",
              "    <tr>\n",
              "      <th>3</th>\n",
              "      <td>4</td>\n",
              "      <td>CWT</td>\n",
              "      <td>Basic</td>\n",
              "      <td>Online</td>\n",
              "      <td>Q</td>\n",
              "      <td>0</td>\n",
              "      <td>60</td>\n",
              "      <td>AUSTRALIA</td>\n",
              "      <td>-39.6</td>\n",
              "      <td>23.76</td>\n",
              "      <td>NaN</td>\n",
              "      <td>32</td>\n",
              "    </tr>\n",
              "    <tr>\n",
              "      <th>4</th>\n",
              "      <td>5</td>\n",
              "      <td>CWT</td>\n",
              "      <td>Basic</td>\n",
              "      <td>Online</td>\n",
              "      <td>Q</td>\n",
              "      <td>0</td>\n",
              "      <td>79</td>\n",
              "      <td>ITALY</td>\n",
              "      <td>-19.8</td>\n",
              "      <td>11.88</td>\n",
              "      <td>NaN</td>\n",
              "      <td>41</td>\n",
              "    </tr>\n",
              "  </tbody>\n",
              "</table>\n",
              "</div>"
            ],
            "text/plain": [
              "   Unnamed: 0 code clientType registrationMode  ... netSales  netProfit  gender age\n",
              "0           1  CBH      Basic          Offline  ...    -29.0       9.57       F  81\n",
              "1           2  CBH      Basic          Offline  ...    -29.0       9.57       F  71\n",
              "2           3  CWT      Basic           Online  ...    -49.5      29.70     NaN  32\n",
              "3           4  CWT      Basic           Online  ...    -39.6      23.76     NaN  32\n",
              "4           5  CWT      Basic           Online  ...    -19.8      11.88     NaN  41\n",
              "\n",
              "[5 rows x 12 columns]"
            ]
          },
          "metadata": {
            "tags": []
          },
          "execution_count": 179
        }
      ]
    },
    {
      "cell_type": "code",
      "metadata": {
        "id": "bOK3xwuQe99D",
        "colab_type": "code",
        "colab": {
          "base_uri": "https://localhost:8080/",
          "height": 336
        },
        "outputId": "c246fed0-77a6-4ed7-f9e8-2a8c8f418ca3"
      },
      "source": [
        "train.info()"
      ],
      "execution_count": 180,
      "outputs": [
        {
          "output_type": "stream",
          "text": [
            "<class 'pandas.core.frame.DataFrame'>\n",
            "RangeIndex: 60326 entries, 0 to 60325\n",
            "Data columns (total 12 columns):\n",
            " #   Column            Non-Null Count  Dtype  \n",
            "---  ------            --------------  -----  \n",
            " 0   Unnamed: 0        60326 non-null  int64  \n",
            " 1   code              60326 non-null  object \n",
            " 2   clientType        60326 non-null  object \n",
            " 3   registrationMode  60326 non-null  object \n",
            " 4   planName          60326 non-null  object \n",
            " 5   accident          60326 non-null  int64  \n",
            " 6   duration          60326 non-null  int64  \n",
            " 7   country           60326 non-null  object \n",
            " 8   netSales          60326 non-null  float64\n",
            " 9   netProfit         60326 non-null  float64\n",
            " 10  gender            17361 non-null  object \n",
            " 11  age               60326 non-null  int64  \n",
            "dtypes: float64(2), int64(4), object(6)\n",
            "memory usage: 5.5+ MB\n"
          ],
          "name": "stdout"
        }
      ]
    },
    {
      "cell_type": "code",
      "metadata": {
        "id": "-s1O9G_JfDZf",
        "colab_type": "code",
        "colab": {}
      },
      "source": [
        "del train['gender']"
      ],
      "execution_count": 181,
      "outputs": []
    },
    {
      "cell_type": "code",
      "metadata": {
        "id": "mZORucMefM0G",
        "colab_type": "code",
        "colab": {}
      },
      "source": [
        "COLS = ['code','clientType','registrationMode','planName','country',]\n",
        "FE = []\n",
        "for col in COLS:\n",
        "  for mod in train[col].unique():\n",
        "        FE.append(mod)\n",
        "        train[mod] = (train[col] == mod).astype(int)"
      ],
      "execution_count": 182,
      "outputs": []
    },
    {
      "cell_type": "code",
      "metadata": {
        "id": "ZXLrghtlgYdj",
        "colab_type": "code",
        "colab": {}
      },
      "source": [
        "for col in COLS:\n",
        "  del train[col]"
      ],
      "execution_count": 183,
      "outputs": []
    },
    {
      "cell_type": "code",
      "metadata": {
        "id": "q6XhcDRAgl4v",
        "colab_type": "code",
        "colab": {
          "base_uri": "https://localhost:8080/",
          "height": 311
        },
        "outputId": "0a4418c4-85e4-47aa-e865-dc2839e70c99"
      },
      "source": [
        "train.head()"
      ],
      "execution_count": 184,
      "outputs": [
        {
          "output_type": "execute_result",
          "data": {
            "text/html": [
              "<div>\n",
              "<style scoped>\n",
              "    .dataframe tbody tr th:only-of-type {\n",
              "        vertical-align: middle;\n",
              "    }\n",
              "\n",
              "    .dataframe tbody tr th {\n",
              "        vertical-align: top;\n",
              "    }\n",
              "\n",
              "    .dataframe thead th {\n",
              "        text-align: right;\n",
              "    }\n",
              "</style>\n",
              "<table border=\"1\" class=\"dataframe\">\n",
              "  <thead>\n",
              "    <tr style=\"text-align: right;\">\n",
              "      <th></th>\n",
              "      <th>Unnamed: 0</th>\n",
              "      <th>accident</th>\n",
              "      <th>duration</th>\n",
              "      <th>netSales</th>\n",
              "      <th>netProfit</th>\n",
              "      <th>age</th>\n",
              "      <th>CBH</th>\n",
              "      <th>CWT</th>\n",
              "      <th>JZI</th>\n",
              "      <th>KML</th>\n",
              "      <th>EPX</th>\n",
              "      <th>C2B</th>\n",
              "      <th>RAB</th>\n",
              "      <th>SSI</th>\n",
              "      <th>ART</th>\n",
              "      <th>JWT</th>\n",
              "      <th>CSR</th>\n",
              "      <th>CCR</th>\n",
              "      <th>ADM</th>\n",
              "      <th>LWC</th>\n",
              "      <th>TTW</th>\n",
              "      <th>TST</th>\n",
              "      <th>Basic</th>\n",
              "      <th>Premium</th>\n",
              "      <th>Offline</th>\n",
              "      <th>Online</th>\n",
              "      <th>M</th>\n",
              "      <th>Q</th>\n",
              "      <th>Z</th>\n",
              "      <th>I</th>\n",
              "      <th>P</th>\n",
              "      <th>B</th>\n",
              "      <th>J</th>\n",
              "      <th>R</th>\n",
              "      <th>E</th>\n",
              "      <th>K</th>\n",
              "      <th>A</th>\n",
              "      <th>W</th>\n",
              "      <th>C</th>\n",
              "      <th>N</th>\n",
              "      <th>...</th>\n",
              "      <th>MOLDOVA, REPUBLIC OF</th>\n",
              "      <th>LATVIA</th>\n",
              "      <th>ZIMBABWE</th>\n",
              "      <th>VANUATU</th>\n",
              "      <th>VENEZUELA</th>\n",
              "      <th>BOTSWANA</th>\n",
              "      <th>TRINIDAD AND TOBAGO</th>\n",
              "      <th>BERMUDA</th>\n",
              "      <th>MALI</th>\n",
              "      <th>KYRGYZSTAN</th>\n",
              "      <th>CAYMAN ISLANDS</th>\n",
              "      <th>MALTA</th>\n",
              "      <th>LEBANON</th>\n",
              "      <th>REUNION</th>\n",
              "      <th>SEYCHELLES</th>\n",
              "      <th>ZAMBIA</th>\n",
              "      <th>NORTHERN MARIANA ISLANDS</th>\n",
              "      <th>NIGERIA</th>\n",
              "      <th>GUYANA</th>\n",
              "      <th>DOMINICAN REPUBLIC</th>\n",
              "      <th>TAJIKISTAN</th>\n",
              "      <th>ALBANIA</th>\n",
              "      <th>MACEDONIA, THE FORMER YUGOSLAV REPUBLIC OF</th>\n",
              "      <th>LIBYAN ARAB JAMAHIRIYA</th>\n",
              "      <th>ANGOLA</th>\n",
              "      <th>BELARUS</th>\n",
              "      <th>TURKS AND CAICOS ISLANDS</th>\n",
              "      <th>FAROE ISLANDS</th>\n",
              "      <th>TURKMENISTAN</th>\n",
              "      <th>GUINEA-BISSAU</th>\n",
              "      <th>CAMEROON</th>\n",
              "      <th>BHUTAN</th>\n",
              "      <th>RWANDA</th>\n",
              "      <th>IRAN, ISLAMIC REPUBLIC OF</th>\n",
              "      <th>GUATEMALA</th>\n",
              "      <th>FRENCH POLYNESIA</th>\n",
              "      <th>TIBET</th>\n",
              "      <th>SENEGAL</th>\n",
              "      <th>REPUBLIC OF MONTENEGRO</th>\n",
              "      <th>BOSNIA AND HERZEGOVINA</th>\n",
              "    </tr>\n",
              "  </thead>\n",
              "  <tbody>\n",
              "    <tr>\n",
              "      <th>0</th>\n",
              "      <td>1</td>\n",
              "      <td>0</td>\n",
              "      <td>186</td>\n",
              "      <td>-29.0</td>\n",
              "      <td>9.57</td>\n",
              "      <td>81</td>\n",
              "      <td>1</td>\n",
              "      <td>0</td>\n",
              "      <td>0</td>\n",
              "      <td>0</td>\n",
              "      <td>0</td>\n",
              "      <td>0</td>\n",
              "      <td>0</td>\n",
              "      <td>0</td>\n",
              "      <td>0</td>\n",
              "      <td>0</td>\n",
              "      <td>0</td>\n",
              "      <td>0</td>\n",
              "      <td>0</td>\n",
              "      <td>0</td>\n",
              "      <td>0</td>\n",
              "      <td>0</td>\n",
              "      <td>1</td>\n",
              "      <td>0</td>\n",
              "      <td>1</td>\n",
              "      <td>0</td>\n",
              "      <td>1</td>\n",
              "      <td>0</td>\n",
              "      <td>0</td>\n",
              "      <td>0</td>\n",
              "      <td>0</td>\n",
              "      <td>0</td>\n",
              "      <td>0</td>\n",
              "      <td>0</td>\n",
              "      <td>0</td>\n",
              "      <td>0</td>\n",
              "      <td>0</td>\n",
              "      <td>0</td>\n",
              "      <td>0</td>\n",
              "      <td>0</td>\n",
              "      <td>...</td>\n",
              "      <td>0</td>\n",
              "      <td>0</td>\n",
              "      <td>0</td>\n",
              "      <td>0</td>\n",
              "      <td>0</td>\n",
              "      <td>0</td>\n",
              "      <td>0</td>\n",
              "      <td>0</td>\n",
              "      <td>0</td>\n",
              "      <td>0</td>\n",
              "      <td>0</td>\n",
              "      <td>0</td>\n",
              "      <td>0</td>\n",
              "      <td>0</td>\n",
              "      <td>0</td>\n",
              "      <td>0</td>\n",
              "      <td>0</td>\n",
              "      <td>0</td>\n",
              "      <td>0</td>\n",
              "      <td>0</td>\n",
              "      <td>0</td>\n",
              "      <td>0</td>\n",
              "      <td>0</td>\n",
              "      <td>0</td>\n",
              "      <td>0</td>\n",
              "      <td>0</td>\n",
              "      <td>0</td>\n",
              "      <td>0</td>\n",
              "      <td>0</td>\n",
              "      <td>0</td>\n",
              "      <td>0</td>\n",
              "      <td>0</td>\n",
              "      <td>0</td>\n",
              "      <td>0</td>\n",
              "      <td>0</td>\n",
              "      <td>0</td>\n",
              "      <td>0</td>\n",
              "      <td>0</td>\n",
              "      <td>0</td>\n",
              "      <td>0</td>\n",
              "    </tr>\n",
              "    <tr>\n",
              "      <th>1</th>\n",
              "      <td>2</td>\n",
              "      <td>0</td>\n",
              "      <td>186</td>\n",
              "      <td>-29.0</td>\n",
              "      <td>9.57</td>\n",
              "      <td>71</td>\n",
              "      <td>1</td>\n",
              "      <td>0</td>\n",
              "      <td>0</td>\n",
              "      <td>0</td>\n",
              "      <td>0</td>\n",
              "      <td>0</td>\n",
              "      <td>0</td>\n",
              "      <td>0</td>\n",
              "      <td>0</td>\n",
              "      <td>0</td>\n",
              "      <td>0</td>\n",
              "      <td>0</td>\n",
              "      <td>0</td>\n",
              "      <td>0</td>\n",
              "      <td>0</td>\n",
              "      <td>0</td>\n",
              "      <td>1</td>\n",
              "      <td>0</td>\n",
              "      <td>1</td>\n",
              "      <td>0</td>\n",
              "      <td>1</td>\n",
              "      <td>0</td>\n",
              "      <td>0</td>\n",
              "      <td>0</td>\n",
              "      <td>0</td>\n",
              "      <td>0</td>\n",
              "      <td>0</td>\n",
              "      <td>0</td>\n",
              "      <td>0</td>\n",
              "      <td>0</td>\n",
              "      <td>0</td>\n",
              "      <td>0</td>\n",
              "      <td>0</td>\n",
              "      <td>0</td>\n",
              "      <td>...</td>\n",
              "      <td>0</td>\n",
              "      <td>0</td>\n",
              "      <td>0</td>\n",
              "      <td>0</td>\n",
              "      <td>0</td>\n",
              "      <td>0</td>\n",
              "      <td>0</td>\n",
              "      <td>0</td>\n",
              "      <td>0</td>\n",
              "      <td>0</td>\n",
              "      <td>0</td>\n",
              "      <td>0</td>\n",
              "      <td>0</td>\n",
              "      <td>0</td>\n",
              "      <td>0</td>\n",
              "      <td>0</td>\n",
              "      <td>0</td>\n",
              "      <td>0</td>\n",
              "      <td>0</td>\n",
              "      <td>0</td>\n",
              "      <td>0</td>\n",
              "      <td>0</td>\n",
              "      <td>0</td>\n",
              "      <td>0</td>\n",
              "      <td>0</td>\n",
              "      <td>0</td>\n",
              "      <td>0</td>\n",
              "      <td>0</td>\n",
              "      <td>0</td>\n",
              "      <td>0</td>\n",
              "      <td>0</td>\n",
              "      <td>0</td>\n",
              "      <td>0</td>\n",
              "      <td>0</td>\n",
              "      <td>0</td>\n",
              "      <td>0</td>\n",
              "      <td>0</td>\n",
              "      <td>0</td>\n",
              "      <td>0</td>\n",
              "      <td>0</td>\n",
              "    </tr>\n",
              "    <tr>\n",
              "      <th>2</th>\n",
              "      <td>3</td>\n",
              "      <td>0</td>\n",
              "      <td>65</td>\n",
              "      <td>-49.5</td>\n",
              "      <td>29.70</td>\n",
              "      <td>32</td>\n",
              "      <td>0</td>\n",
              "      <td>1</td>\n",
              "      <td>0</td>\n",
              "      <td>0</td>\n",
              "      <td>0</td>\n",
              "      <td>0</td>\n",
              "      <td>0</td>\n",
              "      <td>0</td>\n",
              "      <td>0</td>\n",
              "      <td>0</td>\n",
              "      <td>0</td>\n",
              "      <td>0</td>\n",
              "      <td>0</td>\n",
              "      <td>0</td>\n",
              "      <td>0</td>\n",
              "      <td>0</td>\n",
              "      <td>1</td>\n",
              "      <td>0</td>\n",
              "      <td>0</td>\n",
              "      <td>1</td>\n",
              "      <td>0</td>\n",
              "      <td>1</td>\n",
              "      <td>0</td>\n",
              "      <td>0</td>\n",
              "      <td>0</td>\n",
              "      <td>0</td>\n",
              "      <td>0</td>\n",
              "      <td>0</td>\n",
              "      <td>0</td>\n",
              "      <td>0</td>\n",
              "      <td>0</td>\n",
              "      <td>0</td>\n",
              "      <td>0</td>\n",
              "      <td>0</td>\n",
              "      <td>...</td>\n",
              "      <td>0</td>\n",
              "      <td>0</td>\n",
              "      <td>0</td>\n",
              "      <td>0</td>\n",
              "      <td>0</td>\n",
              "      <td>0</td>\n",
              "      <td>0</td>\n",
              "      <td>0</td>\n",
              "      <td>0</td>\n",
              "      <td>0</td>\n",
              "      <td>0</td>\n",
              "      <td>0</td>\n",
              "      <td>0</td>\n",
              "      <td>0</td>\n",
              "      <td>0</td>\n",
              "      <td>0</td>\n",
              "      <td>0</td>\n",
              "      <td>0</td>\n",
              "      <td>0</td>\n",
              "      <td>0</td>\n",
              "      <td>0</td>\n",
              "      <td>0</td>\n",
              "      <td>0</td>\n",
              "      <td>0</td>\n",
              "      <td>0</td>\n",
              "      <td>0</td>\n",
              "      <td>0</td>\n",
              "      <td>0</td>\n",
              "      <td>0</td>\n",
              "      <td>0</td>\n",
              "      <td>0</td>\n",
              "      <td>0</td>\n",
              "      <td>0</td>\n",
              "      <td>0</td>\n",
              "      <td>0</td>\n",
              "      <td>0</td>\n",
              "      <td>0</td>\n",
              "      <td>0</td>\n",
              "      <td>0</td>\n",
              "      <td>0</td>\n",
              "    </tr>\n",
              "    <tr>\n",
              "      <th>3</th>\n",
              "      <td>4</td>\n",
              "      <td>0</td>\n",
              "      <td>60</td>\n",
              "      <td>-39.6</td>\n",
              "      <td>23.76</td>\n",
              "      <td>32</td>\n",
              "      <td>0</td>\n",
              "      <td>1</td>\n",
              "      <td>0</td>\n",
              "      <td>0</td>\n",
              "      <td>0</td>\n",
              "      <td>0</td>\n",
              "      <td>0</td>\n",
              "      <td>0</td>\n",
              "      <td>0</td>\n",
              "      <td>0</td>\n",
              "      <td>0</td>\n",
              "      <td>0</td>\n",
              "      <td>0</td>\n",
              "      <td>0</td>\n",
              "      <td>0</td>\n",
              "      <td>0</td>\n",
              "      <td>1</td>\n",
              "      <td>0</td>\n",
              "      <td>0</td>\n",
              "      <td>1</td>\n",
              "      <td>0</td>\n",
              "      <td>1</td>\n",
              "      <td>0</td>\n",
              "      <td>0</td>\n",
              "      <td>0</td>\n",
              "      <td>0</td>\n",
              "      <td>0</td>\n",
              "      <td>0</td>\n",
              "      <td>0</td>\n",
              "      <td>0</td>\n",
              "      <td>0</td>\n",
              "      <td>0</td>\n",
              "      <td>0</td>\n",
              "      <td>0</td>\n",
              "      <td>...</td>\n",
              "      <td>0</td>\n",
              "      <td>0</td>\n",
              "      <td>0</td>\n",
              "      <td>0</td>\n",
              "      <td>0</td>\n",
              "      <td>0</td>\n",
              "      <td>0</td>\n",
              "      <td>0</td>\n",
              "      <td>0</td>\n",
              "      <td>0</td>\n",
              "      <td>0</td>\n",
              "      <td>0</td>\n",
              "      <td>0</td>\n",
              "      <td>0</td>\n",
              "      <td>0</td>\n",
              "      <td>0</td>\n",
              "      <td>0</td>\n",
              "      <td>0</td>\n",
              "      <td>0</td>\n",
              "      <td>0</td>\n",
              "      <td>0</td>\n",
              "      <td>0</td>\n",
              "      <td>0</td>\n",
              "      <td>0</td>\n",
              "      <td>0</td>\n",
              "      <td>0</td>\n",
              "      <td>0</td>\n",
              "      <td>0</td>\n",
              "      <td>0</td>\n",
              "      <td>0</td>\n",
              "      <td>0</td>\n",
              "      <td>0</td>\n",
              "      <td>0</td>\n",
              "      <td>0</td>\n",
              "      <td>0</td>\n",
              "      <td>0</td>\n",
              "      <td>0</td>\n",
              "      <td>0</td>\n",
              "      <td>0</td>\n",
              "      <td>0</td>\n",
              "    </tr>\n",
              "    <tr>\n",
              "      <th>4</th>\n",
              "      <td>5</td>\n",
              "      <td>0</td>\n",
              "      <td>79</td>\n",
              "      <td>-19.8</td>\n",
              "      <td>11.88</td>\n",
              "      <td>41</td>\n",
              "      <td>0</td>\n",
              "      <td>1</td>\n",
              "      <td>0</td>\n",
              "      <td>0</td>\n",
              "      <td>0</td>\n",
              "      <td>0</td>\n",
              "      <td>0</td>\n",
              "      <td>0</td>\n",
              "      <td>0</td>\n",
              "      <td>0</td>\n",
              "      <td>0</td>\n",
              "      <td>0</td>\n",
              "      <td>0</td>\n",
              "      <td>0</td>\n",
              "      <td>0</td>\n",
              "      <td>0</td>\n",
              "      <td>1</td>\n",
              "      <td>0</td>\n",
              "      <td>0</td>\n",
              "      <td>1</td>\n",
              "      <td>0</td>\n",
              "      <td>1</td>\n",
              "      <td>0</td>\n",
              "      <td>0</td>\n",
              "      <td>0</td>\n",
              "      <td>0</td>\n",
              "      <td>0</td>\n",
              "      <td>0</td>\n",
              "      <td>0</td>\n",
              "      <td>0</td>\n",
              "      <td>0</td>\n",
              "      <td>0</td>\n",
              "      <td>0</td>\n",
              "      <td>0</td>\n",
              "      <td>...</td>\n",
              "      <td>0</td>\n",
              "      <td>0</td>\n",
              "      <td>0</td>\n",
              "      <td>0</td>\n",
              "      <td>0</td>\n",
              "      <td>0</td>\n",
              "      <td>0</td>\n",
              "      <td>0</td>\n",
              "      <td>0</td>\n",
              "      <td>0</td>\n",
              "      <td>0</td>\n",
              "      <td>0</td>\n",
              "      <td>0</td>\n",
              "      <td>0</td>\n",
              "      <td>0</td>\n",
              "      <td>0</td>\n",
              "      <td>0</td>\n",
              "      <td>0</td>\n",
              "      <td>0</td>\n",
              "      <td>0</td>\n",
              "      <td>0</td>\n",
              "      <td>0</td>\n",
              "      <td>0</td>\n",
              "      <td>0</td>\n",
              "      <td>0</td>\n",
              "      <td>0</td>\n",
              "      <td>0</td>\n",
              "      <td>0</td>\n",
              "      <td>0</td>\n",
              "      <td>0</td>\n",
              "      <td>0</td>\n",
              "      <td>0</td>\n",
              "      <td>0</td>\n",
              "      <td>0</td>\n",
              "      <td>0</td>\n",
              "      <td>0</td>\n",
              "      <td>0</td>\n",
              "      <td>0</td>\n",
              "      <td>0</td>\n",
              "      <td>0</td>\n",
              "    </tr>\n",
              "  </tbody>\n",
              "</table>\n",
              "<p>5 rows × 196 columns</p>\n",
              "</div>"
            ],
            "text/plain": [
              "   Unnamed: 0  accident  ...  REPUBLIC OF MONTENEGRO  BOSNIA AND HERZEGOVINA\n",
              "0           1         0  ...                       0                       0\n",
              "1           2         0  ...                       0                       0\n",
              "2           3         0  ...                       0                       0\n",
              "3           4         0  ...                       0                       0\n",
              "4           5         0  ...                       0                       0\n",
              "\n",
              "[5 rows x 196 columns]"
            ]
          },
          "metadata": {
            "tags": []
          },
          "execution_count": 184
        }
      ]
    },
    {
      "cell_type": "code",
      "metadata": {
        "id": "4VtDIEJEg0-j",
        "colab_type": "code",
        "colab": {
          "base_uri": "https://localhost:8080/",
          "height": 101
        },
        "outputId": "09d284fd-6896-41eb-bb5c-4ca24450cb3f"
      },
      "source": [
        "train.info()"
      ],
      "execution_count": 185,
      "outputs": [
        {
          "output_type": "stream",
          "text": [
            "<class 'pandas.core.frame.DataFrame'>\n",
            "RangeIndex: 60326 entries, 0 to 60325\n",
            "Columns: 196 entries, Unnamed: 0 to BOSNIA AND HERZEGOVINA\n",
            "dtypes: float64(2), int64(194)\n",
            "memory usage: 90.2 MB\n"
          ],
          "name": "stdout"
        }
      ]
    },
    {
      "cell_type": "code",
      "metadata": {
        "id": "F3PczZedg5c6",
        "colab_type": "code",
        "colab": {}
      },
      "source": [
        "test = pd.read_csv('/content/Test_Data.csv')"
      ],
      "execution_count": 186,
      "outputs": []
    },
    {
      "cell_type": "code",
      "metadata": {
        "id": "xCE0L-hXhG1C",
        "colab_type": "code",
        "colab": {
          "base_uri": "https://localhost:8080/",
          "height": 232
        },
        "outputId": "71fd4c08-bc4f-4f46-e49d-a2b2f6fe247b"
      },
      "source": [
        "test.head()"
      ],
      "execution_count": 187,
      "outputs": [
        {
          "output_type": "execute_result",
          "data": {
            "text/html": [
              "<div>\n",
              "<style scoped>\n",
              "    .dataframe tbody tr th:only-of-type {\n",
              "        vertical-align: middle;\n",
              "    }\n",
              "\n",
              "    .dataframe tbody tr th {\n",
              "        vertical-align: top;\n",
              "    }\n",
              "\n",
              "    .dataframe thead th {\n",
              "        text-align: right;\n",
              "    }\n",
              "</style>\n",
              "<table border=\"1\" class=\"dataframe\">\n",
              "  <thead>\n",
              "    <tr style=\"text-align: right;\">\n",
              "      <th></th>\n",
              "      <th>Unnamed: 0</th>\n",
              "      <th>code</th>\n",
              "      <th>clientType</th>\n",
              "      <th>registrationMode</th>\n",
              "      <th>planName</th>\n",
              "      <th>duration</th>\n",
              "      <th>country</th>\n",
              "      <th>netSales</th>\n",
              "      <th>netProfit</th>\n",
              "      <th>gender</th>\n",
              "      <th>age</th>\n",
              "    </tr>\n",
              "  </thead>\n",
              "  <tbody>\n",
              "    <tr>\n",
              "      <th>0</th>\n",
              "      <td>42104</td>\n",
              "      <td>EPX</td>\n",
              "      <td>Basic</td>\n",
              "      <td>Online</td>\n",
              "      <td>B</td>\n",
              "      <td>24</td>\n",
              "      <td>INDIA</td>\n",
              "      <td>26.0</td>\n",
              "      <td>0.00</td>\n",
              "      <td>NaN</td>\n",
              "      <td>36</td>\n",
              "    </tr>\n",
              "    <tr>\n",
              "      <th>1</th>\n",
              "      <td>869</td>\n",
              "      <td>EPX</td>\n",
              "      <td>Basic</td>\n",
              "      <td>Online</td>\n",
              "      <td>K</td>\n",
              "      <td>52</td>\n",
              "      <td>SINGAPORE</td>\n",
              "      <td>11.0</td>\n",
              "      <td>0.00</td>\n",
              "      <td>NaN</td>\n",
              "      <td>36</td>\n",
              "    </tr>\n",
              "    <tr>\n",
              "      <th>2</th>\n",
              "      <td>57025</td>\n",
              "      <td>CWT</td>\n",
              "      <td>Basic</td>\n",
              "      <td>Online</td>\n",
              "      <td>Q</td>\n",
              "      <td>6</td>\n",
              "      <td>MALAYSIA</td>\n",
              "      <td>39.6</td>\n",
              "      <td>23.76</td>\n",
              "      <td>NaN</td>\n",
              "      <td>45</td>\n",
              "    </tr>\n",
              "    <tr>\n",
              "      <th>3</th>\n",
              "      <td>1148</td>\n",
              "      <td>EPX</td>\n",
              "      <td>Basic</td>\n",
              "      <td>Online</td>\n",
              "      <td>K</td>\n",
              "      <td>37</td>\n",
              "      <td>MALAYSIA</td>\n",
              "      <td>10.0</td>\n",
              "      <td>0.00</td>\n",
              "      <td>NaN</td>\n",
              "      <td>25</td>\n",
              "    </tr>\n",
              "    <tr>\n",
              "      <th>4</th>\n",
              "      <td>23356</td>\n",
              "      <td>CWT</td>\n",
              "      <td>Basic</td>\n",
              "      <td>Online</td>\n",
              "      <td>Q</td>\n",
              "      <td>77</td>\n",
              "      <td>JAPAN</td>\n",
              "      <td>29.7</td>\n",
              "      <td>17.82</td>\n",
              "      <td>NaN</td>\n",
              "      <td>59</td>\n",
              "    </tr>\n",
              "  </tbody>\n",
              "</table>\n",
              "</div>"
            ],
            "text/plain": [
              "   Unnamed: 0 code clientType registrationMode  ... netSales  netProfit gender  age\n",
              "0       42104  EPX      Basic           Online  ...     26.0       0.00    NaN   36\n",
              "1         869  EPX      Basic           Online  ...     11.0       0.00    NaN   36\n",
              "2       57025  CWT      Basic           Online  ...     39.6      23.76    NaN   45\n",
              "3        1148  EPX      Basic           Online  ...     10.0       0.00    NaN   25\n",
              "4       23356  CWT      Basic           Online  ...     29.7      17.82    NaN   59\n",
              "\n",
              "[5 rows x 11 columns]"
            ]
          },
          "metadata": {
            "tags": []
          },
          "execution_count": 187
        }
      ]
    },
    {
      "cell_type": "code",
      "metadata": {
        "id": "-m9brMTOhHwY",
        "colab_type": "code",
        "colab": {}
      },
      "source": [
        "del test['gender']"
      ],
      "execution_count": 188,
      "outputs": []
    },
    {
      "cell_type": "code",
      "metadata": {
        "id": "3fV_7FK7hK55",
        "colab_type": "code",
        "colab": {
          "base_uri": "https://localhost:8080/",
          "height": 302
        },
        "outputId": "8bfb8b20-6515-465d-b466-950c0cb243fb"
      },
      "source": [
        "test.info()"
      ],
      "execution_count": 189,
      "outputs": [
        {
          "output_type": "stream",
          "text": [
            "<class 'pandas.core.frame.DataFrame'>\n",
            "RangeIndex: 3000 entries, 0 to 2999\n",
            "Data columns (total 10 columns):\n",
            " #   Column            Non-Null Count  Dtype  \n",
            "---  ------            --------------  -----  \n",
            " 0   Unnamed: 0        3000 non-null   int64  \n",
            " 1   code              3000 non-null   object \n",
            " 2   clientType        3000 non-null   object \n",
            " 3   registrationMode  3000 non-null   object \n",
            " 4   planName          3000 non-null   object \n",
            " 5   duration          3000 non-null   int64  \n",
            " 6   country           3000 non-null   object \n",
            " 7   netSales          3000 non-null   float64\n",
            " 8   netProfit         3000 non-null   float64\n",
            " 9   age               3000 non-null   int64  \n",
            "dtypes: float64(2), int64(3), object(5)\n",
            "memory usage: 234.5+ KB\n"
          ],
          "name": "stdout"
        }
      ]
    },
    {
      "cell_type": "code",
      "metadata": {
        "id": "i59Y20u0uBRa",
        "colab_type": "code",
        "colab": {}
      },
      "source": [
        "COLS = ['code','clientType','registrationMode','planName','country',]\n",
        "FE = []\n",
        "for col in COLS:\n",
        "  for mod in test[col].unique():\n",
        "        FE.append(mod)\n",
        "        test[mod] = (test[col] == mod).astype(int)"
      ],
      "execution_count": 190,
      "outputs": []
    },
    {
      "cell_type": "code",
      "metadata": {
        "id": "LgsdJTm1uDeu",
        "colab_type": "code",
        "colab": {}
      },
      "source": [
        "for col in COLS:\n",
        "  del test[col]"
      ],
      "execution_count": 191,
      "outputs": []
    },
    {
      "cell_type": "code",
      "metadata": {
        "id": "WfYffpBYvN-H",
        "colab_type": "code",
        "colab": {
          "base_uri": "https://localhost:8080/",
          "height": 302
        },
        "outputId": "dcd536c1-d239-49e2-d732-f2f56a21adc9"
      },
      "source": [
        "diff = train.columns.difference(test.columns)\n",
        "print(diff)"
      ],
      "execution_count": 192,
      "outputs": [
        {
          "output_type": "stream",
          "text": [
            "Index(['ALBANIA', 'ANGOLA', 'ARMENIA', 'AZERBAIJAN', 'BARBADOS', 'BELARUS',\n",
            "       'BENIN', 'BERMUDA', 'BHUTAN', 'BOSNIA AND HERZEGOVINA', 'BOTSWANA',\n",
            "       'BRAZIL', 'CAMEROON', 'CAYMAN ISLANDS', 'CHILE', 'COSTA RICA', 'CYPRUS',\n",
            "       'DOMINICAN REPUBLIC', 'ECUADOR', 'EGYPT', 'FAROE ISLANDS', 'FIJI',\n",
            "       'FRENCH POLYNESIA', 'GUAM', 'GUATEMALA', 'GUINEA', 'GUINEA-BISSAU',\n",
            "       'IRAN, ISLAMIC REPUBLIC OF', 'JAMAICA',\n",
            "       'KOREA, DEMOCRATIC PEOPLE'S REPUBLIC OF', 'KYRGYZSTAN', 'L', 'LATVIA',\n",
            "       'LEBANON', 'LIBYAN ARAB JAMAHIRIYA', 'LITHUANIA', 'LUXEMBOURG',\n",
            "       'MACEDONIA, THE FORMER YUGOSLAV REPUBLIC OF', 'MALI', 'MALTA',\n",
            "       'MAURITIUS', 'MOLDOVA, REPUBLIC OF', 'MOROCCO', 'NAMIBIA',\n",
            "       'NEW CALEDONIA', 'NIGERIA', 'OMAN', 'PAKISTAN', 'PANAMA', 'PUERTO RICO',\n",
            "       'QATAR', 'REPUBLIC OF MONTENEGRO', 'REUNION', 'RWANDA', 'SENEGAL',\n",
            "       'SERBIA', 'SEYCHELLES', 'SIERRA LEONE', 'SLOVENIA', 'TAJIKISTAN',\n",
            "       'TIBET', 'TUNISIA', 'TURKMENISTAN', 'TURKS AND CAICOS ISLANDS',\n",
            "       'UGANDA', 'UKRAINE', 'VANUATU', 'VENEZUELA', 'Y', 'ZAMBIA', 'ZIMBABWE',\n",
            "       'accident'],\n",
            "      dtype='object')\n"
          ],
          "name": "stdout"
        }
      ]
    },
    {
      "cell_type": "code",
      "metadata": {
        "id": "yigYrGIYvVO1",
        "colab_type": "code",
        "colab": {}
      },
      "source": [
        "import numpy as np\n",
        "a = np.zeros(3000)\n",
        "for i in diff:\n",
        "  test[i] = a"
      ],
      "execution_count": 193,
      "outputs": []
    },
    {
      "cell_type": "code",
      "metadata": {
        "id": "JqKyt-BsxXnw",
        "colab_type": "code",
        "colab": {
          "base_uri": "https://localhost:8080/",
          "height": 67
        },
        "outputId": "22948644-dd05-4201-f53d-5f4e452046b0"
      },
      "source": [
        "diff1 = test.columns.difference(train.columns)\n",
        "print(diff1)"
      ],
      "execution_count": 194,
      "outputs": [
        {
          "output_type": "stream",
          "text": [
            "Index(['GUADELOUPE', 'SAMOA', 'SOLOMON ISLANDS', 'URUGUAY',\n",
            "       'VIRGIN ISLANDS, U.S.'],\n",
            "      dtype='object')\n"
          ],
          "name": "stdout"
        }
      ]
    },
    {
      "cell_type": "code",
      "metadata": {
        "id": "uLxMqaWxvuyB",
        "colab_type": "code",
        "colab": {}
      },
      "source": [
        "\n",
        "import numpy as np\n",
        "a = np.zeros(60326)\n",
        "for i in diff1:\n",
        "  train[i] = a"
      ],
      "execution_count": 195,
      "outputs": []
    },
    {
      "cell_type": "code",
      "metadata": {
        "id": "wsbQ---3xcd7",
        "colab_type": "code",
        "colab": {}
      },
      "source": [
        "del test['accident']"
      ],
      "execution_count": 196,
      "outputs": []
    },
    {
      "cell_type": "code",
      "metadata": {
        "id": "CpEpdYDPuJe-",
        "colab_type": "code",
        "colab": {}
      },
      "source": [
        "X_pred = test.loc[:,:]"
      ],
      "execution_count": 197,
      "outputs": []
    },
    {
      "cell_type": "code",
      "metadata": {
        "id": "Ql4uZa0fhL1_",
        "colab_type": "code",
        "colab": {}
      },
      "source": [
        "sample = pd.read_csv('sample_output.txt', sep=\" \", header=None)"
      ],
      "execution_count": 198,
      "outputs": []
    },
    {
      "cell_type": "code",
      "metadata": {
        "id": "d3ahvKvwhgwR",
        "colab_type": "code",
        "colab": {}
      },
      "source": [
        "def make_model():\n",
        "    z = L.Input((200,), name=\"input\")\n",
        "    x = L.Dense(1024 , activation=\"relu\", name=\"d1\")(z)\n",
        "    x = L.Dense(1024, activation=\"relu\", name=\"d2\")(x)\n",
        "    #x = L.Dense(100, activation=\"relu\", name=\"d3\")(x)\n",
        "    p1 = L.Dense(1, activation=\"sigmoid\", name=\"p1\")(x)\n",
        "    \n",
        "    model = M.Model(z, p1, name=\"CNN\")\n",
        "    #model.compile(loss=qloss, optimizer=\"adam\", metrics=[score])\n",
        "    model.compile(loss='binary_crossentropy', optimizer=tf.keras.optimizers.Adam(lr=0.1), metrics=[tf.keras.metrics.AUC(name='auc'),'accuracy'])\n",
        "    return model"
      ],
      "execution_count": 199,
      "outputs": []
    },
    {
      "cell_type": "code",
      "metadata": {
        "id": "VD228u9mimsd",
        "colab_type": "code",
        "colab": {}
      },
      "source": [
        "y = train['accident'].values\n",
        "del train['accident']\n",
        "x = train.loc[:,:]"
      ],
      "execution_count": 200,
      "outputs": []
    },
    {
      "cell_type": "code",
      "metadata": {
        "id": "9nPZDzxChj2V",
        "colab_type": "code",
        "colab": {}
      },
      "source": [
        "import numpy as np\n",
        "from sklearn.model_selection import train_test_split"
      ],
      "execution_count": 201,
      "outputs": []
    },
    {
      "cell_type": "code",
      "metadata": {
        "id": "Z6HGvG6Ziiwl",
        "colab_type": "code",
        "colab": {}
      },
      "source": [
        "X_train, X_test, y_train, y_test = train_test_split(x, y, test_size=0.33, random_state=42,stratify=y)"
      ],
      "execution_count": 202,
      "outputs": []
    },
    {
      "cell_type": "code",
      "metadata": {
        "id": "EKS5VfIIj0n-",
        "colab_type": "code",
        "colab": {}
      },
      "source": [
        "import tensorflow as tf\n",
        "import tensorflow.keras.backend as K\n",
        "import tensorflow.keras.layers as L\n",
        "import tensorflow.keras.models as M\n",
        "import numpy as np\n",
        "import pandas as pd\n",
        "import os\n",
        "import random\n",
        "import matplotlib.pyplot as plt\n",
        "from tqdm import tqdm\n",
        "from PIL import Image\n",
        "from sklearn.metrics import mean_absolute_error"
      ],
      "execution_count": 203,
      "outputs": []
    },
    {
      "cell_type": "code",
      "metadata": {
        "id": "ss-1juybjt2q",
        "colab_type": "code",
        "colab": {
          "base_uri": "https://localhost:8080/",
          "height": 138
        },
        "outputId": "1728ce70-2f96-4eb1-92ff-e5dd065589f8"
      },
      "source": [
        "net = make_model()\n",
        "history = net.fit(X_train,y_train,batch_size=128, epochs=3,validation_data=(X_test,y_test), verbose=1)"
      ],
      "execution_count": 204,
      "outputs": [
        {
          "output_type": "stream",
          "text": [
            "Epoch 1/3\n",
            "316/316 [==============================] - 11s 34ms/step - loss: 4013.6348 - auc: 0.5094 - accuracy: 0.9486 - val_loss: 0.3240 - val_auc: 0.5000 - val_accuracy: 0.9854\n",
            "Epoch 2/3\n",
            "316/316 [==============================] - 10s 33ms/step - loss: 68.2970 - auc: 0.5145 - accuracy: 0.9824 - val_loss: 0.0805 - val_auc: 0.5003 - val_accuracy: 0.9854\n",
            "Epoch 3/3\n",
            "316/316 [==============================] - 10s 33ms/step - loss: 0.0923 - auc: 0.4729 - accuracy: 0.9854 - val_loss: 0.0858 - val_auc: 0.5000 - val_accuracy: 0.9854\n"
          ],
          "name": "stdout"
        }
      ]
    },
    {
      "cell_type": "code",
      "metadata": {
        "id": "rii2BF_Rttwk",
        "colab_type": "code",
        "colab": {}
      },
      "source": [
        "y_pred = net.predict(X_pred)"
      ],
      "execution_count": 208,
      "outputs": []
    },
    {
      "cell_type": "code",
      "metadata": {
        "id": "VS6RHYPdx395",
        "colab_type": "code",
        "colab": {}
      },
      "source": [
        ""
      ],
      "execution_count": 208,
      "outputs": []
    },
    {
      "cell_type": "code",
      "metadata": {
        "id": "s5vszhnjuTf_",
        "colab_type": "code",
        "colab": {}
      },
      "source": [
        "c = np.savetxt('output.txt',y_pred, delimiter =', ')  "
      ],
      "execution_count": 209,
      "outputs": []
    },
    {
      "cell_type": "code",
      "metadata": {
        "id": "ENaFt2PHyB2M",
        "colab_type": "code",
        "colab": {}
      },
      "source": [
        ""
      ],
      "execution_count": 206,
      "outputs": []
    }
  ]
}